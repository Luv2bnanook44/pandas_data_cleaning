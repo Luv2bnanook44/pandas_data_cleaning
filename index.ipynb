{
 "cells": [
  {
   "cell_type": "markdown",
   "metadata": {},
   "source": [
    "# Data Cleaning Exercise"
   ]
  },
  {
   "cell_type": "markdown",
   "metadata": {},
   "source": [
    "Today we will look at Chicago Public School data from the [Chicago Data Portal](https://data.cityofchicago.org/). \n",
    "\n",
    "We will use it to practice:\n",
    "   - Importing Data into a dataframe\n",
    "   - Subsetting\n",
    "   - Dropping and filling na's\n",
    "   - Creating new features"
   ]
  },
  {
   "cell_type": "code",
   "execution_count": 85,
   "metadata": {},
   "outputs": [],
   "source": [
    "import pandas as pd\n",
    "import numpy as np\n",
    "\n",
    "import sys\n",
    "from src.student_caller import one_random_student\n",
    "from src.student_list import student_first_names\n",
    "\n",
    "pd.set_option('display.max_columns', None)\n"
   ]
  },
  {
   "cell_type": "code",
   "execution_count": 86,
   "metadata": {},
   "outputs": [],
   "source": [
    "# import the csv 'sy201819_school_profile' from the data folder. \n",
    "# Set the index to the column 'Unnamed: 0'\n",
    "\n",
    "sy_201819 = None"
   ]
  },
  {
   "cell_type": "code",
   "execution_count": 87,
   "metadata": {},
   "outputs": [
    {
     "name": "stdout",
     "output_type": "stream",
     "text": [
      "Svitlana\n"
     ]
    }
   ],
   "source": [
    "one_random_student(student_first_names)"
   ]
  },
  {
   "cell_type": "code",
   "execution_count": 88,
   "metadata": {},
   "outputs": [],
   "source": [
    "#__SOLUTION__\n",
    "sy_201819 = pd.read_csv('data/sy201819_school_profile.csv', index_col=\"Unnamed: 0\")"
   ]
  },
  {
   "cell_type": "code",
   "execution_count": 89,
   "metadata": {},
   "outputs": [
    {
     "data": {
      "text/html": [
       "<div>\n",
       "<style scoped>\n",
       "    .dataframe tbody tr th:only-of-type {\n",
       "        vertical-align: middle;\n",
       "    }\n",
       "\n",
       "    .dataframe tbody tr th {\n",
       "        vertical-align: top;\n",
       "    }\n",
       "\n",
       "    .dataframe thead th {\n",
       "        text-align: right;\n",
       "    }\n",
       "</style>\n",
       "<table border=\"1\" class=\"dataframe\">\n",
       "  <thead>\n",
       "    <tr style=\"text-align: right;\">\n",
       "      <th></th>\n",
       "      <th>school_id</th>\n",
       "      <th>legacy_unit_id</th>\n",
       "      <th>finance_id</th>\n",
       "      <th>short_name</th>\n",
       "      <th>long_name</th>\n",
       "      <th>primary_category</th>\n",
       "      <th>is_high_school</th>\n",
       "      <th>is_middle_school</th>\n",
       "      <th>is_elementary_school</th>\n",
       "      <th>is_pre_school</th>\n",
       "      <th>summary</th>\n",
       "      <th>administrator_title</th>\n",
       "      <th>administrator</th>\n",
       "      <th>secondary_contact_title</th>\n",
       "      <th>secondary_contact</th>\n",
       "      <th>address</th>\n",
       "      <th>city</th>\n",
       "      <th>state</th>\n",
       "      <th>zip</th>\n",
       "      <th>phone</th>\n",
       "      <th>fax</th>\n",
       "      <th>cps_school_profile</th>\n",
       "      <th>website</th>\n",
       "      <th>facebook</th>\n",
       "      <th>attendance_boundaries</th>\n",
       "      <th>grades_offered_all</th>\n",
       "      <th>grades_offered</th>\n",
       "      <th>student_count_total</th>\n",
       "      <th>student_count_low_income</th>\n",
       "      <th>student_count_special_ed</th>\n",
       "      <th>student_count_english_learners</th>\n",
       "      <th>student_count_black</th>\n",
       "      <th>student_count_hispanic</th>\n",
       "      <th>student_count_white</th>\n",
       "      <th>student_count_asian</th>\n",
       "      <th>student_count_native_american</th>\n",
       "      <th>student_count_other_ethnicity</th>\n",
       "      <th>student_count_asian_pacific</th>\n",
       "      <th>student_count_multi</th>\n",
       "      <th>student_count_hawaiian_pacific</th>\n",
       "      <th>student_count_ethnicity_not</th>\n",
       "      <th>statistics_description</th>\n",
       "      <th>demographic_description</th>\n",
       "      <th>dress_code</th>\n",
       "      <th>prek_school_day</th>\n",
       "      <th>kindergarten_school_day</th>\n",
       "      <th>school_hours</th>\n",
       "      <th>after_school_hours</th>\n",
       "      <th>earliest_drop_off_time</th>\n",
       "      <th>classroom_languages</th>\n",
       "      <th>bilingual_services</th>\n",
       "      <th>title_1_eligible</th>\n",
       "      <th>preschool_inclusive</th>\n",
       "      <th>preschool_instructional</th>\n",
       "      <th>transportation_bus</th>\n",
       "      <th>transportation_el</th>\n",
       "      <th>school_latitude</th>\n",
       "      <th>school_longitude</th>\n",
       "      <th>overall_rating</th>\n",
       "      <th>rating_status</th>\n",
       "      <th>rating_statement</th>\n",
       "      <th>classification_description</th>\n",
       "      <th>school_year</th>\n",
       "      <th>third_contact_title</th>\n",
       "      <th>third_contact_name</th>\n",
       "      <th>network</th>\n",
       "      <th>is_gocps_participant</th>\n",
       "      <th>is_gocps_prek</th>\n",
       "      <th>is_gocps_elementary</th>\n",
       "      <th>is_gocps_high_school</th>\n",
       "      <th>open_for_enrollment_date</th>\n",
       "      <th>twitter</th>\n",
       "      <th>youtube</th>\n",
       "      <th>pinterest</th>\n",
       "      <th>college_enrollment_rate_school</th>\n",
       "      <th>college_enrollment_rate_mean</th>\n",
       "      <th>graduation_rate_school</th>\n",
       "      <th>graduation_rate_mean</th>\n",
       "      <th>significantly_modified</th>\n",
       "      <th>transportation_metra</th>\n",
       "      <th>fourth_contact_title</th>\n",
       "      <th>fourth_contact_name</th>\n",
       "      <th>fifth_contact_title</th>\n",
       "      <th>fifth_contact_name</th>\n",
       "      <th>seventh_contact_title</th>\n",
       "      <th>seventh_contact_name</th>\n",
       "      <th>refugee_services</th>\n",
       "      <th>visual_impairments</th>\n",
       "      <th>freshman_start_end_time</th>\n",
       "      <th>sixth_contact_title</th>\n",
       "      <th>sixth_contact_name</th>\n",
       "      <th>hard_of_hearing</th>\n",
       "    </tr>\n",
       "  </thead>\n",
       "  <tbody>\n",
       "    <tr>\n",
       "      <th>0</th>\n",
       "      <td>609966</td>\n",
       "      <td>3750</td>\n",
       "      <td>23531</td>\n",
       "      <td>HAMMOND</td>\n",
       "      <td>Charles G Hammond Elementary School</td>\n",
       "      <td>ES</td>\n",
       "      <td>False</td>\n",
       "      <td>True</td>\n",
       "      <td>True</td>\n",
       "      <td>True</td>\n",
       "      <td>Hammond creates a challenging learning environ...</td>\n",
       "      <td>Principal</td>\n",
       "      <td>Ms.Anamaria Orbe</td>\n",
       "      <td>Asst Principal</td>\n",
       "      <td>Nicole McConnell</td>\n",
       "      <td>2819 W 21ST PL</td>\n",
       "      <td>Chicago</td>\n",
       "      <td>Illinois</td>\n",
       "      <td>60623</td>\n",
       "      <td>7.735355e+09</td>\n",
       "      <td>7.735355e+09</td>\n",
       "      <td>https://www.cps.edu/schools/schoolprofiles/609966</td>\n",
       "      <td>https://cps.edu/hammond</td>\n",
       "      <td>https://www.facebook.com/Charles-G-Hammond-Sch...</td>\n",
       "      <td>True</td>\n",
       "      <td>PK,K,1,2,3,4,5,6,7,8</td>\n",
       "      <td>PK,K-8</td>\n",
       "      <td>342</td>\n",
       "      <td>336</td>\n",
       "      <td>63</td>\n",
       "      <td>132</td>\n",
       "      <td>33</td>\n",
       "      <td>304</td>\n",
       "      <td>2</td>\n",
       "      <td>0</td>\n",
       "      <td>0</td>\n",
       "      <td>0</td>\n",
       "      <td>0</td>\n",
       "      <td>3</td>\n",
       "      <td>0</td>\n",
       "      <td>0</td>\n",
       "      <td>There are 342 students enrolled at HAMMOND.  9...</td>\n",
       "      <td>The largest demographic at HAMMOND is Hispanic...</td>\n",
       "      <td>False</td>\n",
       "      <td>Full and Half Day</td>\n",
       "      <td>Full Day</td>\n",
       "      <td>07:30 AM-02:30 PM</td>\n",
       "      <td>2:30 pm - 5:30 pm</td>\n",
       "      <td>7:30 am</td>\n",
       "      <td>Spanish</td>\n",
       "      <td>True</td>\n",
       "      <td>True</td>\n",
       "      <td>Y</td>\n",
       "      <td>Y</td>\n",
       "      <td>21, 94</td>\n",
       "      <td>Pink</td>\n",
       "      <td>41.852719</td>\n",
       "      <td>-87.696243</td>\n",
       "      <td>Level 1</td>\n",
       "      <td>GOOD STANDING</td>\n",
       "      <td>This school received a Level 1 rating, which i...</td>\n",
       "      <td>Schools that have an attendance boundary. Gene...</td>\n",
       "      <td>School Year 2019-2020</td>\n",
       "      <td>Clerk</td>\n",
       "      <td>Migdalia Nikolic</td>\n",
       "      <td>Network 7</td>\n",
       "      <td>True</td>\n",
       "      <td>False</td>\n",
       "      <td>True</td>\n",
       "      <td>False</td>\n",
       "      <td>2004-09-01T00:00:00.000</td>\n",
       "      <td>NaN</td>\n",
       "      <td>NaN</td>\n",
       "      <td>NaN</td>\n",
       "      <td>NaN</td>\n",
       "      <td>NaN</td>\n",
       "      <td>NaN</td>\n",
       "      <td>NaN</td>\n",
       "      <td>NaN</td>\n",
       "      <td>NaN</td>\n",
       "      <td>NaN</td>\n",
       "      <td>NaN</td>\n",
       "      <td>NaN</td>\n",
       "      <td>NaN</td>\n",
       "      <td>NaN</td>\n",
       "      <td>NaN</td>\n",
       "      <td>NaN</td>\n",
       "      <td>NaN</td>\n",
       "      <td>NaN</td>\n",
       "      <td>NaN</td>\n",
       "      <td>NaN</td>\n",
       "      <td>NaN</td>\n",
       "    </tr>\n",
       "    <tr>\n",
       "      <th>1</th>\n",
       "      <td>400069</td>\n",
       "      <td>4150</td>\n",
       "      <td>67081</td>\n",
       "      <td>POLARIS</td>\n",
       "      <td>Polaris Charter Academy</td>\n",
       "      <td>ES</td>\n",
       "      <td>False</td>\n",
       "      <td>True</td>\n",
       "      <td>True</td>\n",
       "      <td>False</td>\n",
       "      <td>Polaris is committed to helping students becom...</td>\n",
       "      <td>Director</td>\n",
       "      <td>Michelle Navarre</td>\n",
       "      <td>Other</td>\n",
       "      <td>Francesca Peck</td>\n",
       "      <td>620 N SAWYER AVE</td>\n",
       "      <td>Chicago</td>\n",
       "      <td>Illinois</td>\n",
       "      <td>60624</td>\n",
       "      <td>7.735341e+09</td>\n",
       "      <td>7.735347e+09</td>\n",
       "      <td>https://www.cps.edu/schools/schoolprofiles/400069</td>\n",
       "      <td>https://pcachicago.org</td>\n",
       "      <td>https://www.facebook.com/PolarisCharterAcademy</td>\n",
       "      <td>False</td>\n",
       "      <td>K,1,2,3,4,5,6,7,8</td>\n",
       "      <td>K-8</td>\n",
       "      <td>378</td>\n",
       "      <td>343</td>\n",
       "      <td>64</td>\n",
       "      <td>8</td>\n",
       "      <td>337</td>\n",
       "      <td>33</td>\n",
       "      <td>5</td>\n",
       "      <td>0</td>\n",
       "      <td>0</td>\n",
       "      <td>0</td>\n",
       "      <td>0</td>\n",
       "      <td>3</td>\n",
       "      <td>0</td>\n",
       "      <td>0</td>\n",
       "      <td>There are 378 students enrolled at POLARIS.  9...</td>\n",
       "      <td>The largest demographic at POLARIS is Black.  ...</td>\n",
       "      <td>True</td>\n",
       "      <td>NaN</td>\n",
       "      <td>Full Day</td>\n",
       "      <td>7:50 am-4:00 pm</td>\n",
       "      <td>4:00 pm-6:00 pm</td>\n",
       "      <td>07:20 AM</td>\n",
       "      <td>NaN</td>\n",
       "      <td>NaN</td>\n",
       "      <td>True</td>\n",
       "      <td>NaN</td>\n",
       "      <td>NaN</td>\n",
       "      <td>NaN</td>\n",
       "      <td>NaN</td>\n",
       "      <td>41.892550</td>\n",
       "      <td>-87.707796</td>\n",
       "      <td>Level 2</td>\n",
       "      <td>NOT APPLICABLE</td>\n",
       "      <td>This school received a Level 2 rating, which i...</td>\n",
       "      <td>Schools that are open to all Chicago children,...</td>\n",
       "      <td>School Year 2019-2020</td>\n",
       "      <td>Office Manager</td>\n",
       "      <td>Robin Alexander</td>\n",
       "      <td>Charter</td>\n",
       "      <td>False</td>\n",
       "      <td>False</td>\n",
       "      <td>False</td>\n",
       "      <td>False</td>\n",
       "      <td>2007-07-01T00:00:00.000</td>\n",
       "      <td>https://twitter.com/PolarisCA</td>\n",
       "      <td>https://www.youtube.com/channel/UCHblvjecJ7Bp2...</td>\n",
       "      <td>NaN</td>\n",
       "      <td>NaN</td>\n",
       "      <td>NaN</td>\n",
       "      <td>NaN</td>\n",
       "      <td>NaN</td>\n",
       "      <td>NaN</td>\n",
       "      <td>NaN</td>\n",
       "      <td>NaN</td>\n",
       "      <td>NaN</td>\n",
       "      <td>NaN</td>\n",
       "      <td>NaN</td>\n",
       "      <td>NaN</td>\n",
       "      <td>NaN</td>\n",
       "      <td>NaN</td>\n",
       "      <td>NaN</td>\n",
       "      <td>NaN</td>\n",
       "      <td>NaN</td>\n",
       "      <td>NaN</td>\n",
       "      <td>NaN</td>\n",
       "    </tr>\n",
       "    <tr>\n",
       "      <th>2</th>\n",
       "      <td>610191</td>\n",
       "      <td>6070</td>\n",
       "      <td>29291</td>\n",
       "      <td>STONE</td>\n",
       "      <td>Stone Elementary Scholastic Academy</td>\n",
       "      <td>ES</td>\n",
       "      <td>False</td>\n",
       "      <td>True</td>\n",
       "      <td>True</td>\n",
       "      <td>False</td>\n",
       "      <td>Stone Academy offers full-day kindergarten, al...</td>\n",
       "      <td>Principal</td>\n",
       "      <td>James Joseph Brandon</td>\n",
       "      <td>Assistant Principal</td>\n",
       "      <td>Kate Nestler</td>\n",
       "      <td>6239 N LEAVITT ST</td>\n",
       "      <td>Chicago</td>\n",
       "      <td>Illinois</td>\n",
       "      <td>60659</td>\n",
       "      <td>7.735342e+09</td>\n",
       "      <td>7.735342e+09</td>\n",
       "      <td>https://www.cps.edu/schools/schoolprofiles/610191</td>\n",
       "      <td>http://stoneacademy.net/</td>\n",
       "      <td>NaN</td>\n",
       "      <td>False</td>\n",
       "      <td>K,1,2,3,4,5,6,7,8</td>\n",
       "      <td>K-8</td>\n",
       "      <td>607</td>\n",
       "      <td>319</td>\n",
       "      <td>52</td>\n",
       "      <td>121</td>\n",
       "      <td>142</td>\n",
       "      <td>98</td>\n",
       "      <td>171</td>\n",
       "      <td>166</td>\n",
       "      <td>2</td>\n",
       "      <td>0</td>\n",
       "      <td>0</td>\n",
       "      <td>26</td>\n",
       "      <td>2</td>\n",
       "      <td>0</td>\n",
       "      <td>There are 607 students enrolled at STONE.  52....</td>\n",
       "      <td>The largest demographic at STONE is White.  Th...</td>\n",
       "      <td>True</td>\n",
       "      <td>NaN</td>\n",
       "      <td>Full Day</td>\n",
       "      <td>8:00  AM - 3:00  PM</td>\n",
       "      <td>NaN</td>\n",
       "      <td>NaN</td>\n",
       "      <td>NaN</td>\n",
       "      <td>True</td>\n",
       "      <td>False</td>\n",
       "      <td>NaN</td>\n",
       "      <td>NaN</td>\n",
       "      <td>49B, 84</td>\n",
       "      <td>Brown</td>\n",
       "      <td>41.995359</td>\n",
       "      <td>-87.684793</td>\n",
       "      <td>Level 1+</td>\n",
       "      <td>GOOD STANDING</td>\n",
       "      <td>This school received a Level 1+ rating, which ...</td>\n",
       "      <td>Schools that specialize in a specific subject ...</td>\n",
       "      <td>School Year 2019-2020</td>\n",
       "      <td>NaN</td>\n",
       "      <td>NaN</td>\n",
       "      <td>Network 2</td>\n",
       "      <td>True</td>\n",
       "      <td>False</td>\n",
       "      <td>True</td>\n",
       "      <td>False</td>\n",
       "      <td>2004-09-01T00:00:00.000</td>\n",
       "      <td>NaN</td>\n",
       "      <td>NaN</td>\n",
       "      <td>NaN</td>\n",
       "      <td>NaN</td>\n",
       "      <td>NaN</td>\n",
       "      <td>NaN</td>\n",
       "      <td>NaN</td>\n",
       "      <td>NaN</td>\n",
       "      <td>NaN</td>\n",
       "      <td>NaN</td>\n",
       "      <td>NaN</td>\n",
       "      <td>NaN</td>\n",
       "      <td>NaN</td>\n",
       "      <td>NaN</td>\n",
       "      <td>NaN</td>\n",
       "      <td>NaN</td>\n",
       "      <td>NaN</td>\n",
       "      <td>NaN</td>\n",
       "      <td>NaN</td>\n",
       "      <td>NaN</td>\n",
       "      <td>NaN</td>\n",
       "    </tr>\n",
       "    <tr>\n",
       "      <th>3</th>\n",
       "      <td>400173</td>\n",
       "      <td>9648</td>\n",
       "      <td>66801</td>\n",
       "      <td>PATHWAYS - BRIGHTON PARK HS</td>\n",
       "      <td>Pathways in Education- Brighton Park</td>\n",
       "      <td>HS</td>\n",
       "      <td>True</td>\n",
       "      <td>False</td>\n",
       "      <td>False</td>\n",
       "      <td>False</td>\n",
       "      <td>NaN</td>\n",
       "      <td>Principal</td>\n",
       "      <td>Nicholas F Perez</td>\n",
       "      <td>NaN</td>\n",
       "      <td>NaN</td>\n",
       "      <td>3124 W 47TH ST</td>\n",
       "      <td>Chicago</td>\n",
       "      <td>Illinois</td>\n",
       "      <td>60632</td>\n",
       "      <td>7.735791e+09</td>\n",
       "      <td>7.735791e+09</td>\n",
       "      <td>https://www.cps.edu/schools/schoolprofiles/400173</td>\n",
       "      <td>https://pathwaysineducation.org</td>\n",
       "      <td>https://www.facebook.com/PathwaysInEducationIL</td>\n",
       "      <td>False</td>\n",
       "      <td>9,10,11,12</td>\n",
       "      <td>9-12</td>\n",
       "      <td>408</td>\n",
       "      <td>341</td>\n",
       "      <td>42</td>\n",
       "      <td>67</td>\n",
       "      <td>12</td>\n",
       "      <td>378</td>\n",
       "      <td>14</td>\n",
       "      <td>3</td>\n",
       "      <td>1</td>\n",
       "      <td>0</td>\n",
       "      <td>0</td>\n",
       "      <td>0</td>\n",
       "      <td>0</td>\n",
       "      <td>0</td>\n",
       "      <td>There are 408 students enrolled at PATHWAYS - ...</td>\n",
       "      <td>The largest demographic at PATHWAYS - BRIGHTON...</td>\n",
       "      <td>False</td>\n",
       "      <td>NaN</td>\n",
       "      <td>NaN</td>\n",
       "      <td>NaN</td>\n",
       "      <td>NaN</td>\n",
       "      <td>NaN</td>\n",
       "      <td>NaN</td>\n",
       "      <td>NaN</td>\n",
       "      <td>NaN</td>\n",
       "      <td>NaN</td>\n",
       "      <td>NaN</td>\n",
       "      <td>NaN</td>\n",
       "      <td>NaN</td>\n",
       "      <td>41.808226</td>\n",
       "      <td>-87.702645</td>\n",
       "      <td>Level 2+</td>\n",
       "      <td>NOT APPLICABLE</td>\n",
       "      <td>This school received a Level 2+ rating, which ...</td>\n",
       "      <td>Schools that have their own processes for enro...</td>\n",
       "      <td>School Year 2019-2020</td>\n",
       "      <td>NaN</td>\n",
       "      <td>NaN</td>\n",
       "      <td>Options</td>\n",
       "      <td>False</td>\n",
       "      <td>False</td>\n",
       "      <td>False</td>\n",
       "      <td>False</td>\n",
       "      <td>2014-07-01T00:00:00.000</td>\n",
       "      <td>https://twitter.com/pathwaysil</td>\n",
       "      <td>NaN</td>\n",
       "      <td>https://www.pinterest.com/PieIllinois/</td>\n",
       "      <td>19.4</td>\n",
       "      <td>67.2</td>\n",
       "      <td>11.3</td>\n",
       "      <td>78.9</td>\n",
       "      <td>NaN</td>\n",
       "      <td>NaN</td>\n",
       "      <td>NaN</td>\n",
       "      <td>NaN</td>\n",
       "      <td>NaN</td>\n",
       "      <td>NaN</td>\n",
       "      <td>NaN</td>\n",
       "      <td>NaN</td>\n",
       "      <td>NaN</td>\n",
       "      <td>NaN</td>\n",
       "      <td>NaN</td>\n",
       "      <td>NaN</td>\n",
       "      <td>NaN</td>\n",
       "      <td>NaN</td>\n",
       "    </tr>\n",
       "    <tr>\n",
       "      <th>4</th>\n",
       "      <td>610153</td>\n",
       "      <td>5670</td>\n",
       "      <td>25191</td>\n",
       "      <td>RYDER</td>\n",
       "      <td>William H Ryder Math &amp; Science Specialty ES</td>\n",
       "      <td>ES</td>\n",
       "      <td>False</td>\n",
       "      <td>True</td>\n",
       "      <td>True</td>\n",
       "      <td>True</td>\n",
       "      <td>Our mission is to provide rigorous data driven...</td>\n",
       "      <td>Principal</td>\n",
       "      <td>Aaron Rucker</td>\n",
       "      <td>Assistant Principal</td>\n",
       "      <td>Darnell Garner</td>\n",
       "      <td>8716 S WALLACE ST</td>\n",
       "      <td>Chicago</td>\n",
       "      <td>Illinois</td>\n",
       "      <td>60620</td>\n",
       "      <td>7.735354e+09</td>\n",
       "      <td>7.735354e+09</td>\n",
       "      <td>https://www.cps.edu/schools/schoolprofiles/610153</td>\n",
       "      <td>https://ryderschool.org</td>\n",
       "      <td>NaN</td>\n",
       "      <td>True</td>\n",
       "      <td>PK,K,1,2,3,4,5,6,7,8</td>\n",
       "      <td>PK,K-8</td>\n",
       "      <td>402</td>\n",
       "      <td>360</td>\n",
       "      <td>116</td>\n",
       "      <td>3</td>\n",
       "      <td>396</td>\n",
       "      <td>4</td>\n",
       "      <td>1</td>\n",
       "      <td>0</td>\n",
       "      <td>0</td>\n",
       "      <td>0</td>\n",
       "      <td>0</td>\n",
       "      <td>1</td>\n",
       "      <td>0</td>\n",
       "      <td>0</td>\n",
       "      <td>There are 402 students enrolled at RYDER.  89....</td>\n",
       "      <td>The largest demographic at RYDER is Black.  Th...</td>\n",
       "      <td>True</td>\n",
       "      <td>Half Day</td>\n",
       "      <td>Full Day</td>\n",
       "      <td>08:45 AM-03:45 PM</td>\n",
       "      <td>NaN</td>\n",
       "      <td>NaN</td>\n",
       "      <td>NaN</td>\n",
       "      <td>NaN</td>\n",
       "      <td>True</td>\n",
       "      <td>NaN</td>\n",
       "      <td>Y</td>\n",
       "      <td>24, 87</td>\n",
       "      <td>Red</td>\n",
       "      <td>41.735379</td>\n",
       "      <td>-87.638843</td>\n",
       "      <td>Level 1</td>\n",
       "      <td>GOOD STANDING</td>\n",
       "      <td>This school received a Level 1 rating, which i...</td>\n",
       "      <td>Schools that have an attendance boundary. Gene...</td>\n",
       "      <td>School Year 2019-2020</td>\n",
       "      <td>Technology Coordinator</td>\n",
       "      <td>Montell Pinkston</td>\n",
       "      <td>Network 11</td>\n",
       "      <td>True</td>\n",
       "      <td>False</td>\n",
       "      <td>True</td>\n",
       "      <td>False</td>\n",
       "      <td>2004-09-01T00:00:00.000</td>\n",
       "      <td>NaN</td>\n",
       "      <td>NaN</td>\n",
       "      <td>NaN</td>\n",
       "      <td>NaN</td>\n",
       "      <td>NaN</td>\n",
       "      <td>NaN</td>\n",
       "      <td>NaN</td>\n",
       "      <td>True</td>\n",
       "      <td>Rock Island District (RI)</td>\n",
       "      <td>NaN</td>\n",
       "      <td>NaN</td>\n",
       "      <td>NaN</td>\n",
       "      <td>NaN</td>\n",
       "      <td>NaN</td>\n",
       "      <td>NaN</td>\n",
       "      <td>NaN</td>\n",
       "      <td>NaN</td>\n",
       "      <td>NaN</td>\n",
       "      <td>NaN</td>\n",
       "      <td>NaN</td>\n",
       "      <td>NaN</td>\n",
       "    </tr>\n",
       "  </tbody>\n",
       "</table>\n",
       "</div>"
      ],
      "text/plain": [
       "   school_id  legacy_unit_id  finance_id                   short_name  \\\n",
       "0     609966            3750       23531                      HAMMOND   \n",
       "1     400069            4150       67081                      POLARIS   \n",
       "2     610191            6070       29291                        STONE   \n",
       "3     400173            9648       66801  PATHWAYS - BRIGHTON PARK HS   \n",
       "4     610153            5670       25191                        RYDER   \n",
       "\n",
       "                                     long_name primary_category  \\\n",
       "0          Charles G Hammond Elementary School               ES   \n",
       "1                      Polaris Charter Academy               ES   \n",
       "2          Stone Elementary Scholastic Academy               ES   \n",
       "3         Pathways in Education- Brighton Park               HS   \n",
       "4  William H Ryder Math & Science Specialty ES               ES   \n",
       "\n",
       "   is_high_school  is_middle_school  is_elementary_school  is_pre_school  \\\n",
       "0           False              True                  True           True   \n",
       "1           False              True                  True          False   \n",
       "2           False              True                  True          False   \n",
       "3            True             False                 False          False   \n",
       "4           False              True                  True           True   \n",
       "\n",
       "                                             summary administrator_title  \\\n",
       "0  Hammond creates a challenging learning environ...           Principal   \n",
       "1  Polaris is committed to helping students becom...            Director   \n",
       "2  Stone Academy offers full-day kindergarten, al...           Principal   \n",
       "3                                                NaN           Principal   \n",
       "4  Our mission is to provide rigorous data driven...           Principal   \n",
       "\n",
       "          administrator secondary_contact_title secondary_contact  \\\n",
       "0      Ms.Anamaria Orbe          Asst Principal  Nicole McConnell   \n",
       "1      Michelle Navarre                   Other    Francesca Peck   \n",
       "2  James Joseph Brandon     Assistant Principal      Kate Nestler   \n",
       "3      Nicholas F Perez                     NaN               NaN   \n",
       "4          Aaron Rucker     Assistant Principal    Darnell Garner   \n",
       "\n",
       "             address     city     state    zip         phone           fax  \\\n",
       "0     2819 W 21ST PL  Chicago  Illinois  60623  7.735355e+09  7.735355e+09   \n",
       "1   620 N SAWYER AVE  Chicago  Illinois  60624  7.735341e+09  7.735347e+09   \n",
       "2  6239 N LEAVITT ST  Chicago  Illinois  60659  7.735342e+09  7.735342e+09   \n",
       "3     3124 W 47TH ST  Chicago  Illinois  60632  7.735791e+09  7.735791e+09   \n",
       "4  8716 S WALLACE ST  Chicago  Illinois  60620  7.735354e+09  7.735354e+09   \n",
       "\n",
       "                                  cps_school_profile  \\\n",
       "0  https://www.cps.edu/schools/schoolprofiles/609966   \n",
       "1  https://www.cps.edu/schools/schoolprofiles/400069   \n",
       "2  https://www.cps.edu/schools/schoolprofiles/610191   \n",
       "3  https://www.cps.edu/schools/schoolprofiles/400173   \n",
       "4  https://www.cps.edu/schools/schoolprofiles/610153   \n",
       "\n",
       "                           website  \\\n",
       "0          https://cps.edu/hammond   \n",
       "1           https://pcachicago.org   \n",
       "2         http://stoneacademy.net/   \n",
       "3  https://pathwaysineducation.org   \n",
       "4          https://ryderschool.org   \n",
       "\n",
       "                                            facebook  attendance_boundaries  \\\n",
       "0  https://www.facebook.com/Charles-G-Hammond-Sch...                   True   \n",
       "1     https://www.facebook.com/PolarisCharterAcademy                  False   \n",
       "2                                                NaN                  False   \n",
       "3     https://www.facebook.com/PathwaysInEducationIL                  False   \n",
       "4                                                NaN                   True   \n",
       "\n",
       "     grades_offered_all grades_offered  student_count_total  \\\n",
       "0  PK,K,1,2,3,4,5,6,7,8         PK,K-8                  342   \n",
       "1     K,1,2,3,4,5,6,7,8            K-8                  378   \n",
       "2     K,1,2,3,4,5,6,7,8            K-8                  607   \n",
       "3            9,10,11,12           9-12                  408   \n",
       "4  PK,K,1,2,3,4,5,6,7,8         PK,K-8                  402   \n",
       "\n",
       "   student_count_low_income  student_count_special_ed  \\\n",
       "0                       336                        63   \n",
       "1                       343                        64   \n",
       "2                       319                        52   \n",
       "3                       341                        42   \n",
       "4                       360                       116   \n",
       "\n",
       "   student_count_english_learners  student_count_black  \\\n",
       "0                             132                   33   \n",
       "1                               8                  337   \n",
       "2                             121                  142   \n",
       "3                              67                   12   \n",
       "4                               3                  396   \n",
       "\n",
       "   student_count_hispanic  student_count_white  student_count_asian  \\\n",
       "0                     304                    2                    0   \n",
       "1                      33                    5                    0   \n",
       "2                      98                  171                  166   \n",
       "3                     378                   14                    3   \n",
       "4                       4                    1                    0   \n",
       "\n",
       "   student_count_native_american  student_count_other_ethnicity  \\\n",
       "0                              0                              0   \n",
       "1                              0                              0   \n",
       "2                              2                              0   \n",
       "3                              1                              0   \n",
       "4                              0                              0   \n",
       "\n",
       "   student_count_asian_pacific  student_count_multi  \\\n",
       "0                            0                    3   \n",
       "1                            0                    3   \n",
       "2                            0                   26   \n",
       "3                            0                    0   \n",
       "4                            0                    1   \n",
       "\n",
       "   student_count_hawaiian_pacific  student_count_ethnicity_not  \\\n",
       "0                               0                            0   \n",
       "1                               0                            0   \n",
       "2                               2                            0   \n",
       "3                               0                            0   \n",
       "4                               0                            0   \n",
       "\n",
       "                              statistics_description  \\\n",
       "0  There are 342 students enrolled at HAMMOND.  9...   \n",
       "1  There are 378 students enrolled at POLARIS.  9...   \n",
       "2  There are 607 students enrolled at STONE.  52....   \n",
       "3  There are 408 students enrolled at PATHWAYS - ...   \n",
       "4  There are 402 students enrolled at RYDER.  89....   \n",
       "\n",
       "                             demographic_description dress_code  \\\n",
       "0  The largest demographic at HAMMOND is Hispanic...      False   \n",
       "1  The largest demographic at POLARIS is Black.  ...       True   \n",
       "2  The largest demographic at STONE is White.  Th...       True   \n",
       "3  The largest demographic at PATHWAYS - BRIGHTON...      False   \n",
       "4  The largest demographic at RYDER is Black.  Th...       True   \n",
       "\n",
       "     prek_school_day kindergarten_school_day         school_hours  \\\n",
       "0  Full and Half Day                Full Day    07:30 AM-02:30 PM   \n",
       "1                NaN                Full Day      7:50 am-4:00 pm   \n",
       "2                NaN                Full Day  8:00  AM - 3:00  PM   \n",
       "3                NaN                     NaN                  NaN   \n",
       "4           Half Day                Full Day    08:45 AM-03:45 PM   \n",
       "\n",
       "  after_school_hours earliest_drop_off_time classroom_languages  \\\n",
       "0  2:30 pm - 5:30 pm                7:30 am             Spanish   \n",
       "1    4:00 pm-6:00 pm               07:20 AM                 NaN   \n",
       "2                NaN                    NaN                 NaN   \n",
       "3                NaN                    NaN                 NaN   \n",
       "4                NaN                    NaN                 NaN   \n",
       "\n",
       "  bilingual_services title_1_eligible preschool_inclusive  \\\n",
       "0               True             True                   Y   \n",
       "1                NaN             True                 NaN   \n",
       "2               True            False                 NaN   \n",
       "3                NaN              NaN                 NaN   \n",
       "4                NaN             True                 NaN   \n",
       "\n",
       "  preschool_instructional transportation_bus transportation_el  \\\n",
       "0                       Y             21, 94              Pink   \n",
       "1                     NaN                NaN               NaN   \n",
       "2                     NaN            49B, 84             Brown   \n",
       "3                     NaN                NaN               NaN   \n",
       "4                       Y             24, 87               Red   \n",
       "\n",
       "   school_latitude  school_longitude overall_rating   rating_status  \\\n",
       "0        41.852719        -87.696243        Level 1   GOOD STANDING   \n",
       "1        41.892550        -87.707796        Level 2  NOT APPLICABLE   \n",
       "2        41.995359        -87.684793       Level 1+   GOOD STANDING   \n",
       "3        41.808226        -87.702645       Level 2+  NOT APPLICABLE   \n",
       "4        41.735379        -87.638843        Level 1   GOOD STANDING   \n",
       "\n",
       "                                    rating_statement  \\\n",
       "0  This school received a Level 1 rating, which i...   \n",
       "1  This school received a Level 2 rating, which i...   \n",
       "2  This school received a Level 1+ rating, which ...   \n",
       "3  This school received a Level 2+ rating, which ...   \n",
       "4  This school received a Level 1 rating, which i...   \n",
       "\n",
       "                          classification_description            school_year  \\\n",
       "0  Schools that have an attendance boundary. Gene...  School Year 2019-2020   \n",
       "1  Schools that are open to all Chicago children,...  School Year 2019-2020   \n",
       "2  Schools that specialize in a specific subject ...  School Year 2019-2020   \n",
       "3  Schools that have their own processes for enro...  School Year 2019-2020   \n",
       "4  Schools that have an attendance boundary. Gene...  School Year 2019-2020   \n",
       "\n",
       "      third_contact_title third_contact_name     network  \\\n",
       "0                   Clerk   Migdalia Nikolic   Network 7   \n",
       "1          Office Manager    Robin Alexander     Charter   \n",
       "2                     NaN                NaN   Network 2   \n",
       "3                     NaN                NaN     Options   \n",
       "4  Technology Coordinator   Montell Pinkston  Network 11   \n",
       "\n",
       "   is_gocps_participant  is_gocps_prek is_gocps_elementary  \\\n",
       "0                  True          False                True   \n",
       "1                 False          False               False   \n",
       "2                  True          False                True   \n",
       "3                 False          False               False   \n",
       "4                  True          False                True   \n",
       "\n",
       "   is_gocps_high_school open_for_enrollment_date  \\\n",
       "0                 False  2004-09-01T00:00:00.000   \n",
       "1                 False  2007-07-01T00:00:00.000   \n",
       "2                 False  2004-09-01T00:00:00.000   \n",
       "3                 False  2014-07-01T00:00:00.000   \n",
       "4                 False  2004-09-01T00:00:00.000   \n",
       "\n",
       "                          twitter  \\\n",
       "0                             NaN   \n",
       "1   https://twitter.com/PolarisCA   \n",
       "2                             NaN   \n",
       "3  https://twitter.com/pathwaysil   \n",
       "4                             NaN   \n",
       "\n",
       "                                             youtube  \\\n",
       "0                                                NaN   \n",
       "1  https://www.youtube.com/channel/UCHblvjecJ7Bp2...   \n",
       "2                                                NaN   \n",
       "3                                                NaN   \n",
       "4                                                NaN   \n",
       "\n",
       "                                pinterest  college_enrollment_rate_school  \\\n",
       "0                                     NaN                             NaN   \n",
       "1                                     NaN                             NaN   \n",
       "2                                     NaN                             NaN   \n",
       "3  https://www.pinterest.com/PieIllinois/                            19.4   \n",
       "4                                     NaN                             NaN   \n",
       "\n",
       "   college_enrollment_rate_mean  graduation_rate_school  graduation_rate_mean  \\\n",
       "0                           NaN                     NaN                   NaN   \n",
       "1                           NaN                     NaN                   NaN   \n",
       "2                           NaN                     NaN                   NaN   \n",
       "3                          67.2                    11.3                  78.9   \n",
       "4                           NaN                     NaN                   NaN   \n",
       "\n",
       "  significantly_modified       transportation_metra fourth_contact_title  \\\n",
       "0                    NaN                        NaN                  NaN   \n",
       "1                    NaN                        NaN                  NaN   \n",
       "2                    NaN                        NaN                  NaN   \n",
       "3                    NaN                        NaN                  NaN   \n",
       "4                   True  Rock Island District (RI)                  NaN   \n",
       "\n",
       "  fourth_contact_name fifth_contact_title fifth_contact_name  \\\n",
       "0                 NaN                 NaN                NaN   \n",
       "1                 NaN                 NaN                NaN   \n",
       "2                 NaN                 NaN                NaN   \n",
       "3                 NaN                 NaN                NaN   \n",
       "4                 NaN                 NaN                NaN   \n",
       "\n",
       "  seventh_contact_title seventh_contact_name refugee_services  \\\n",
       "0                   NaN                  NaN              NaN   \n",
       "1                   NaN                  NaN              NaN   \n",
       "2                   NaN                  NaN              NaN   \n",
       "3                   NaN                  NaN              NaN   \n",
       "4                   NaN                  NaN              NaN   \n",
       "\n",
       "  visual_impairments freshman_start_end_time sixth_contact_title  \\\n",
       "0                NaN                     NaN                 NaN   \n",
       "1                NaN                     NaN                 NaN   \n",
       "2                NaN                     NaN                 NaN   \n",
       "3                NaN                     NaN                 NaN   \n",
       "4                NaN                     NaN                 NaN   \n",
       "\n",
       "  sixth_contact_name hard_of_hearing  \n",
       "0                NaN             NaN  \n",
       "1                NaN             NaN  \n",
       "2                NaN             NaN  \n",
       "3                NaN             NaN  \n",
       "4                NaN             NaN  "
      ]
     },
     "execution_count": 89,
     "metadata": {},
     "output_type": "execute_result"
    }
   ],
   "source": [
    "# print out the head of the dataframe\n",
    "sy_201819.head()"
   ]
  },
  {
   "cell_type": "markdown",
   "metadata": {},
   "source": [
    "We will only be using the columns which appear in the mask below.\n",
    "            "
   ]
  },
  {
   "cell_type": "code",
   "execution_count": 90,
   "metadata": {},
   "outputs": [],
   "source": [
    "column_mask = ['school_id',\n",
    "               'primary_category',\n",
    "               'grades_offered_all',\n",
    "               'student_count_total',\n",
    "               'student_count_low_income',\n",
    "               'student_count_special_ed',\n",
    "               'student_count_english_learners',\n",
    "               'graduation_rate_school',\n",
    "               'dress_code',\n",
    "               'classroom_languages',\n",
    "               'network',\n",
    "               'graduation_rate_mean'\n",
    "              ]"
   ]
  },
  {
   "cell_type": "markdown",
   "metadata": {},
   "source": [
    "Use the mask to isolate the columns of interest.  "
   ]
  },
  {
   "cell_type": "code",
   "execution_count": 91,
   "metadata": {},
   "outputs": [],
   "source": [
    "# Your code here\n"
   ]
  },
  {
   "cell_type": "code",
   "execution_count": 92,
   "metadata": {},
   "outputs": [
    {
     "name": "stdout",
     "output_type": "stream",
     "text": [
      "Christos\n"
     ]
    }
   ],
   "source": [
    "one_random_student(student_first_names)"
   ]
  },
  {
   "cell_type": "code",
   "execution_count": 93,
   "metadata": {},
   "outputs": [],
   "source": [
    "#__SOLUTION__\n",
    "sy_201819 = sy_201819[column_mask]"
   ]
  },
  {
   "cell_type": "markdown",
   "metadata": {},
   "source": [
    "We will only be working with high schools. \n",
    "\n",
    "Subset the dataframe to include only schools whose `primary_category` indicated high school."
   ]
  },
  {
   "cell_type": "code",
   "execution_count": 94,
   "metadata": {},
   "outputs": [],
   "source": [
    "# Your code here\n",
    "sy_201819_hs = None"
   ]
  },
  {
   "cell_type": "code",
   "execution_count": 95,
   "metadata": {},
   "outputs": [
    {
     "name": "stdout",
     "output_type": "stream",
     "text": [
      "Christos\n"
     ]
    }
   ],
   "source": [
    "one_random_student(student_first_names)"
   ]
  },
  {
   "cell_type": "code",
   "execution_count": 96,
   "metadata": {},
   "outputs": [],
   "source": [
    "#__SOLUTION__\n",
    "sy_201819_hs = sy_201819[sy_201819['primary_category'] == 'HS']"
   ]
  },
  {
   "cell_type": "markdown",
   "metadata": {},
   "source": [
    "# NA's "
   ]
  },
  {
   "cell_type": "code",
   "execution_count": 97,
   "metadata": {},
   "outputs": [],
   "source": [
    "# Count the na's across all columns of the high school dataframe\n"
   ]
  },
  {
   "cell_type": "code",
   "execution_count": 98,
   "metadata": {},
   "outputs": [
    {
     "name": "stdout",
     "output_type": "stream",
     "text": [
      "Christos\n"
     ]
    }
   ],
   "source": [
    "one_random_student(student_first_names)"
   ]
  },
  {
   "cell_type": "code",
   "execution_count": 99,
   "metadata": {},
   "outputs": [
    {
     "data": {
      "text/plain": [
       "school_id                          0\n",
       "primary_category                   0\n",
       "grades_offered_all                 0\n",
       "student_count_total                0\n",
       "student_count_low_income           0\n",
       "student_count_special_ed           0\n",
       "student_count_english_learners     0\n",
       "graduation_rate_school            36\n",
       "dress_code                         2\n",
       "classroom_languages               41\n",
       "network                            5\n",
       "graduation_rate_mean              36\n",
       "dtype: int64"
      ]
     },
     "execution_count": 99,
     "metadata": {},
     "output_type": "execute_result"
    }
   ],
   "source": [
    "#__SOLUTION__\n",
    "sy_201819_hs.isna().sum()"
   ]
  },
  {
   "cell_type": "markdown",
   "metadata": {},
   "source": [
    "There are several ways to deal with na's. We will explore:\n",
    "  \n",
    "  - Dropping any row which has an na in it\n",
    "  - Interporlating the mean value into the na\n",
    "  \n",
    "Only use `inplace=True` in the second instance so we can explore both methods successively.\n"
   ]
  },
  {
   "cell_type": "markdown",
   "metadata": {},
   "source": [
    "## Dropping any row which has an `NaN` in it\n"
   ]
  },
  {
   "cell_type": "code",
   "execution_count": 100,
   "metadata": {},
   "outputs": [],
   "source": [
    "# Your code here\n"
   ]
  },
  {
   "cell_type": "code",
   "execution_count": 101,
   "metadata": {},
   "outputs": [],
   "source": [
    "# How many records were lost using this method?"
   ]
  },
  {
   "cell_type": "code",
   "execution_count": 102,
   "metadata": {},
   "outputs": [
    {
     "name": "stdout",
     "output_type": "stream",
     "text": [
      "Joe\n"
     ]
    }
   ],
   "source": [
    "one_random_student(student_first_names)"
   ]
  },
  {
   "cell_type": "code",
   "execution_count": 103,
   "metadata": {},
   "outputs": [
    {
     "name": "stdout",
     "output_type": "stream",
     "text": [
      "55\n"
     ]
    }
   ],
   "source": [
    "#__SOLUTION__\n",
    "sy_201819_hs.dropna()\n",
    "\n",
    "print(sy_201819_hs.shape[0] - sy_201819_hs.dropna().shape[0])"
   ]
  },
  {
   "cell_type": "markdown",
   "metadata": {},
   "source": [
    "## Interporlating the mean value to fillna"
   ]
  },
  {
   "cell_type": "markdown",
   "metadata": {},
   "source": [
    "Let's work with the graduation_rate_school column.  \n",
    "\n",
    "Take the value in the `graduation_rate_mean` and fill na's in `graduation_rate_school` with it.\n"
   ]
  },
  {
   "cell_type": "code",
   "execution_count": 104,
   "metadata": {},
   "outputs": [],
   "source": [
    "# Your code here"
   ]
  },
  {
   "cell_type": "code",
   "execution_count": 105,
   "metadata": {},
   "outputs": [
    {
     "name": "stdout",
     "output_type": "stream",
     "text": [
      "Jamie\n"
     ]
    }
   ],
   "source": [
    "one_random_student(student_first_names)"
   ]
  },
  {
   "cell_type": "code",
   "execution_count": 106,
   "metadata": {},
   "outputs": [
    {
     "name": "stderr",
     "output_type": "stream",
     "text": [
      "/Users/johnmaxbarry/anaconda3/lib/python3.7/site-packages/pandas/core/series.py:4523: SettingWithCopyWarning: \n",
      "A value is trying to be set on a copy of a slice from a DataFrame\n",
      "\n",
      "See the caveats in the documentation: https://pandas.pydata.org/pandas-docs/stable/user_guide/indexing.html#returning-a-view-versus-a-copy\n",
      "  downcast=downcast,\n"
     ]
    }
   ],
   "source": [
    "#__SOLUTION__\n",
    "sy_201819_hs['graduation_rate_school'].fillna(sy_201819_hs['graduation_rate_mean'].min(), inplace=True)"
   ]
  },
  {
   "cell_type": "markdown",
   "metadata": {},
   "source": [
    "We will return to the classroom_languages na's in a moment."
   ]
  },
  {
   "cell_type": "markdown",
   "metadata": {},
   "source": [
    "# Creating New Features"
   ]
  },
  {
   "cell_type": "markdown",
   "metadata": {},
   "source": [
    "Create a column called `percent_low_income` which is the number of low income students divided by total student count."
   ]
  },
  {
   "cell_type": "code",
   "execution_count": 107,
   "metadata": {},
   "outputs": [],
   "source": [
    "# Your answer here"
   ]
  },
  {
   "cell_type": "code",
   "execution_count": 108,
   "metadata": {},
   "outputs": [
    {
     "name": "stdout",
     "output_type": "stream",
     "text": [
      "Marcos\n"
     ]
    }
   ],
   "source": [
    "one_random_student(student_first_names)"
   ]
  },
  {
   "cell_type": "code",
   "execution_count": 109,
   "metadata": {},
   "outputs": [
    {
     "name": "stderr",
     "output_type": "stream",
     "text": [
      "/Users/johnmaxbarry/.local/lib/python3.7/site-packages/ipykernel_launcher.py:2: SettingWithCopyWarning: \n",
      "A value is trying to be set on a copy of a slice from a DataFrame.\n",
      "Try using .loc[row_indexer,col_indexer] = value instead\n",
      "\n",
      "See the caveats in the documentation: https://pandas.pydata.org/pandas-docs/stable/user_guide/indexing.html#returning-a-view-versus-a-copy\n",
      "  \n"
     ]
    }
   ],
   "source": [
    "#__SOLUTION__\n",
    "sy_201819_hs['percent_low_income'] = sy_201819_hs['student_count_low_income']/sy_201819_hs['student_count_total']"
   ]
  },
  {
   "cell_type": "markdown",
   "metadata": {},
   "source": [
    "Create a column which counts the number of classroom languages offered in a school.\n"
   ]
  },
  {
   "cell_type": "code",
   "execution_count": 110,
   "metadata": {},
   "outputs": [],
   "source": [
    "# To help do so, we will first, replace na's in the column with the string None\n",
    "sy_201819_hs['classroom_languages'].fillna('None', inplace=True)\n"
   ]
  },
  {
   "cell_type": "markdown",
   "metadata": {},
   "source": [
    "Next, use apply and a lambda function to split each cell's strings on the comma."
   ]
  },
  {
   "cell_type": "code",
   "execution_count": 111,
   "metadata": {},
   "outputs": [
    {
     "name": "stderr",
     "output_type": "stream",
     "text": [
      "/Users/johnmaxbarry/.local/lib/python3.7/site-packages/ipykernel_launcher.py:3: SettingWithCopyWarning: \n",
      "A value is trying to be set on a copy of a slice from a DataFrame.\n",
      "Try using .loc[row_indexer,col_indexer] = value instead\n",
      "\n",
      "See the caveats in the documentation: https://pandas.pydata.org/pandas-docs/stable/user_guide/indexing.html#returning-a-view-versus-a-copy\n",
      "  This is separate from the ipykernel package so we can avoid doing imports until\n"
     ]
    }
   ],
   "source": [
    "# Your code here\n",
    "\n",
    "sy_201819_hs['classroom_languages_count'] = None"
   ]
  },
  {
   "cell_type": "code",
   "execution_count": 112,
   "metadata": {},
   "outputs": [
    {
     "name": "stderr",
     "output_type": "stream",
     "text": [
      "/Users/johnmaxbarry/.local/lib/python3.7/site-packages/ipykernel_launcher.py:2: SettingWithCopyWarning: \n",
      "A value is trying to be set on a copy of a slice from a DataFrame.\n",
      "Try using .loc[row_indexer,col_indexer] = value instead\n",
      "\n",
      "See the caveats in the documentation: https://pandas.pydata.org/pandas-docs/stable/user_guide/indexing.html#returning-a-view-versus-a-copy\n",
      "  \n"
     ]
    }
   ],
   "source": [
    "#__SOLUTION__\n",
    "sy_201819_hs['classroom_languages_count'] = sy_201819_hs['classroom_languages'].apply(lambda x: x.split(','))"
   ]
  },
  {
   "cell_type": "markdown",
   "metadata": {},
   "source": [
    "Now, use a second apply on classroom_languages_count and pass the built in operator `len`"
   ]
  },
  {
   "cell_type": "code",
   "execution_count": 113,
   "metadata": {},
   "outputs": [],
   "source": [
    "# Your Code Here\n"
   ]
  },
  {
   "cell_type": "code",
   "execution_count": 114,
   "metadata": {},
   "outputs": [
    {
     "name": "stdout",
     "output_type": "stream",
     "text": [
      "Svitlana\n"
     ]
    }
   ],
   "source": [
    "one_random_student(student_first_names)"
   ]
  },
  {
   "cell_type": "code",
   "execution_count": 115,
   "metadata": {},
   "outputs": [
    {
     "name": "stderr",
     "output_type": "stream",
     "text": [
      "/Users/johnmaxbarry/.local/lib/python3.7/site-packages/ipykernel_launcher.py:2: SettingWithCopyWarning: \n",
      "A value is trying to be set on a copy of a slice from a DataFrame.\n",
      "Try using .loc[row_indexer,col_indexer] = value instead\n",
      "\n",
      "See the caveats in the documentation: https://pandas.pydata.org/pandas-docs/stable/user_guide/indexing.html#returning-a-view-versus-a-copy\n",
      "  \n"
     ]
    }
   ],
   "source": [
    "#__SOLUTION__\n",
    "sy_201819_hs['classroom_languages_count'] = sy_201819_hs['classroom_languages_count'].apply(len)"
   ]
  },
  {
   "cell_type": "code",
   "execution_count": 116,
   "metadata": {},
   "outputs": [
    {
     "data": {
      "text/html": [
       "<div>\n",
       "<style scoped>\n",
       "    .dataframe tbody tr th:only-of-type {\n",
       "        vertical-align: middle;\n",
       "    }\n",
       "\n",
       "    .dataframe tbody tr th {\n",
       "        vertical-align: top;\n",
       "    }\n",
       "\n",
       "    .dataframe thead th {\n",
       "        text-align: right;\n",
       "    }\n",
       "</style>\n",
       "<table border=\"1\" class=\"dataframe\">\n",
       "  <thead>\n",
       "    <tr style=\"text-align: right;\">\n",
       "      <th></th>\n",
       "      <th>school_id</th>\n",
       "      <th>primary_category</th>\n",
       "      <th>grades_offered_all</th>\n",
       "      <th>student_count_total</th>\n",
       "      <th>student_count_low_income</th>\n",
       "      <th>student_count_special_ed</th>\n",
       "      <th>student_count_english_learners</th>\n",
       "      <th>graduation_rate_school</th>\n",
       "      <th>dress_code</th>\n",
       "      <th>classroom_languages</th>\n",
       "      <th>network</th>\n",
       "      <th>graduation_rate_mean</th>\n",
       "      <th>percent_low_income</th>\n",
       "      <th>classroom_languages_count</th>\n",
       "    </tr>\n",
       "  </thead>\n",
       "  <tbody>\n",
       "    <tr>\n",
       "      <th>3</th>\n",
       "      <td>400173</td>\n",
       "      <td>HS</td>\n",
       "      <td>9,10,11,12</td>\n",
       "      <td>408</td>\n",
       "      <td>341</td>\n",
       "      <td>42</td>\n",
       "      <td>67</td>\n",
       "      <td>11.3</td>\n",
       "      <td>False</td>\n",
       "      <td>None</td>\n",
       "      <td>Options</td>\n",
       "      <td>78.9</td>\n",
       "      <td>0.835784</td>\n",
       "      <td>1</td>\n",
       "    </tr>\n",
       "    <tr>\n",
       "      <th>11</th>\n",
       "      <td>609704</td>\n",
       "      <td>HS</td>\n",
       "      <td>9,10,11,12</td>\n",
       "      <td>559</td>\n",
       "      <td>555</td>\n",
       "      <td>145</td>\n",
       "      <td>159</td>\n",
       "      <td>68.9</td>\n",
       "      <td>True</td>\n",
       "      <td>Spanish, Spanish for Heritage Speakers</td>\n",
       "      <td>Network 16</td>\n",
       "      <td>78.9</td>\n",
       "      <td>0.992844</td>\n",
       "      <td>2</td>\n",
       "    </tr>\n",
       "    <tr>\n",
       "      <th>17</th>\n",
       "      <td>609734</td>\n",
       "      <td>HS</td>\n",
       "      <td>7,8,9,10,11,12</td>\n",
       "      <td>3644</td>\n",
       "      <td>1871</td>\n",
       "      <td>447</td>\n",
       "      <td>334</td>\n",
       "      <td>83.9</td>\n",
       "      <td>False</td>\n",
       "      <td>Arabic, French, Korean, Polish, Spanish, Spani...</td>\n",
       "      <td>Network 14</td>\n",
       "      <td>78.9</td>\n",
       "      <td>0.513447</td>\n",
       "      <td>6</td>\n",
       "    </tr>\n",
       "    <tr>\n",
       "      <th>21</th>\n",
       "      <td>400106</td>\n",
       "      <td>HS</td>\n",
       "      <td>9,10,11,12</td>\n",
       "      <td>607</td>\n",
       "      <td>571</td>\n",
       "      <td>142</td>\n",
       "      <td>3</td>\n",
       "      <td>72.0</td>\n",
       "      <td>True</td>\n",
       "      <td>Spanish</td>\n",
       "      <td>Charter</td>\n",
       "      <td>78.9</td>\n",
       "      <td>0.940692</td>\n",
       "      <td>1</td>\n",
       "    </tr>\n",
       "    <tr>\n",
       "      <th>33</th>\n",
       "      <td>609750</td>\n",
       "      <td>HS</td>\n",
       "      <td>6,7,8,9,10,11,12</td>\n",
       "      <td>31</td>\n",
       "      <td>30</td>\n",
       "      <td>6</td>\n",
       "      <td>3</td>\n",
       "      <td>78.9</td>\n",
       "      <td>False</td>\n",
       "      <td>Spanish</td>\n",
       "      <td>Network 15</td>\n",
       "      <td>NaN</td>\n",
       "      <td>0.967742</td>\n",
       "      <td>1</td>\n",
       "    </tr>\n",
       "  </tbody>\n",
       "</table>\n",
       "</div>"
      ],
      "text/plain": [
       "    school_id primary_category grades_offered_all  student_count_total  \\\n",
       "3      400173               HS         9,10,11,12                  408   \n",
       "11     609704               HS         9,10,11,12                  559   \n",
       "17     609734               HS     7,8,9,10,11,12                 3644   \n",
       "21     400106               HS         9,10,11,12                  607   \n",
       "33     609750               HS   6,7,8,9,10,11,12                   31   \n",
       "\n",
       "    student_count_low_income  student_count_special_ed  \\\n",
       "3                        341                        42   \n",
       "11                       555                       145   \n",
       "17                      1871                       447   \n",
       "21                       571                       142   \n",
       "33                        30                         6   \n",
       "\n",
       "    student_count_english_learners  graduation_rate_school dress_code  \\\n",
       "3                               67                    11.3      False   \n",
       "11                             159                    68.9       True   \n",
       "17                             334                    83.9      False   \n",
       "21                               3                    72.0       True   \n",
       "33                               3                    78.9      False   \n",
       "\n",
       "                                  classroom_languages     network  \\\n",
       "3                                                None     Options   \n",
       "11             Spanish, Spanish for Heritage Speakers  Network 16   \n",
       "17  Arabic, French, Korean, Polish, Spanish, Spani...  Network 14   \n",
       "21                                            Spanish     Charter   \n",
       "33                                            Spanish  Network 15   \n",
       "\n",
       "    graduation_rate_mean  percent_low_income  classroom_languages_count  \n",
       "3                   78.9            0.835784                          1  \n",
       "11                  78.9            0.992844                          2  \n",
       "17                  78.9            0.513447                          6  \n",
       "21                  78.9            0.940692                          1  \n",
       "33                   NaN            0.967742                          1  "
      ]
     },
     "execution_count": 116,
     "metadata": {},
     "output_type": "execute_result"
    }
   ],
   "source": [
    "sy_201819_hs.head()"
   ]
  },
  {
   "cell_type": "markdown",
   "metadata": {},
   "source": [
    "Convert dress_code from a boolean to a binary using `.map`.\n",
    "\n",
    "Hint: `.map` takes a dictionary with keys representing the extant data and values representing what you want to replace them with.\n"
   ]
  },
  {
   "cell_type": "code",
   "execution_count": null,
   "metadata": {},
   "outputs": [],
   "source": [
    "# Your code here"
   ]
  },
  {
   "cell_type": "code",
   "execution_count": 121,
   "metadata": {},
   "outputs": [
    {
     "name": "stdout",
     "output_type": "stream",
     "text": [
      "Marcos\n"
     ]
    }
   ],
   "source": [
    "one_random_student(student_first_names)"
   ]
  },
  {
   "cell_type": "code",
   "execution_count": 120,
   "metadata": {},
   "outputs": [
    {
     "data": {
      "text/plain": [
       "3      0\n",
       "11     1\n",
       "17     0\n",
       "21     1\n",
       "33     0\n",
       "      ..\n",
       "635    1\n",
       "636    1\n",
       "637    1\n",
       "639    0\n",
       "653    1\n",
       "Name: dress_code, Length: 176, dtype: int64"
      ]
     },
     "execution_count": 120,
     "metadata": {},
     "output_type": "execute_result"
    }
   ],
   "source": [
    "#__SOLUTION__\n",
    "sy_201819_hs['dress_code'].map({True: 1, False: 0, np.nan: 0} )"
   ]
  },
  {
   "cell_type": "markdown",
   "metadata": {},
   "source": [
    "As a bonus challenge, create a  column `students_per_grade` which divides the total number of students by the number of grades offered"
   ]
  },
  {
   "cell_type": "code",
   "execution_count": 117,
   "metadata": {},
   "outputs": [],
   "source": [
    "# Your code here"
   ]
  },
  {
   "cell_type": "code",
   "execution_count": 118,
   "metadata": {},
   "outputs": [
    {
     "name": "stderr",
     "output_type": "stream",
     "text": [
      "/Users/johnmaxbarry/.local/lib/python3.7/site-packages/ipykernel_launcher.py:2: SettingWithCopyWarning: \n",
      "A value is trying to be set on a copy of a slice from a DataFrame.\n",
      "Try using .loc[row_indexer,col_indexer] = value instead\n",
      "\n",
      "See the caveats in the documentation: https://pandas.pydata.org/pandas-docs/stable/user_guide/indexing.html#returning-a-view-versus-a-copy\n",
      "  \n",
      "/Users/johnmaxbarry/.local/lib/python3.7/site-packages/ipykernel_launcher.py:3: SettingWithCopyWarning: \n",
      "A value is trying to be set on a copy of a slice from a DataFrame.\n",
      "Try using .loc[row_indexer,col_indexer] = value instead\n",
      "\n",
      "See the caveats in the documentation: https://pandas.pydata.org/pandas-docs/stable/user_guide/indexing.html#returning-a-view-versus-a-copy\n",
      "  This is separate from the ipykernel package so we can avoid doing imports until\n"
     ]
    }
   ],
   "source": [
    "#__SOLUTION__\n",
    "sy_201819_hs['students_per_grade'] = sy_201819_hs['grades_offered_all'].apply(lambda x: x.split(','))\n",
    "sy_201819_hs['students_per_grade'] = sy_201819['student_count_total']/sy_201819_hs['students_per_grade'].apply(len)\n"
   ]
  }
 ],
 "metadata": {
  "kernelspec": {
   "display_name": "learn-env_2",
   "language": "python",
   "name": "learn-env_2"
  },
  "language_info": {
   "codemirror_mode": {
    "name": "ipython",
    "version": 3
   },
   "file_extension": ".py",
   "mimetype": "text/x-python",
   "name": "python",
   "nbconvert_exporter": "python",
   "pygments_lexer": "ipython3",
   "version": "3.7.3"
  }
 },
 "nbformat": 4,
 "nbformat_minor": 4
}
